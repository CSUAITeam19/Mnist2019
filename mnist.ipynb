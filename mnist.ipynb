{
 "metadata": {
  "language_info": {
   "codemirror_mode": {
    "name": "ipython",
    "version": 3
   },
   "file_extension": ".py",
   "mimetype": "text/x-python",
   "name": "python",
   "nbconvert_exporter": "python",
   "pygments_lexer": "ipython3",
   "version": "3.9.4"
  },
  "orig_nbformat": 2,
  "kernelspec": {
   "name": "python394jvsc74a57bd0767d51c1340bd893661ea55ea3124f6de3c7a262a8b4abca0554b478b1e2ff90",
   "display_name": "Python 3.9.4 64-bit"
  }
 },
 "nbformat": 4,
 "nbformat_minor": 2,
 "cells": [
  {
   "cell_type": "code",
   "execution_count": 1,
   "metadata": {},
   "outputs": [],
   "source": [
    "from tensorflow.keras import layers, models, optimizers, initializers, regularizers\n",
    "from tensorflow.keras.datasets import mnist\n",
    "from tensorflow.compat.v1 import disable_eager_execution\n",
    "disable_eager_execution()\n",
    "import tensorflow as tf\n",
    "import numpy as np\n",
    "\n",
    "from tensorflow.compat.v1 import ConfigProto\n",
    "from tensorflow.compat.v1 import InteractiveSession\n",
    "from tensorflow.compat.v1.keras.backend import set_session\n",
    "from tensorflow.compat.v1 import ConfigProto, Session\n",
    "import tensorflow.keras\n",
    "config = ConfigProto(allow_soft_placement=True)\n",
    "\n",
    "config.gpu_options.per_process_gpu_memory_fraction = 0.7\n",
    "set_session(Session(config=config))"
   ]
  },
  {
   "cell_type": "code",
   "execution_count": 2,
   "metadata": {},
   "outputs": [
    {
     "output_type": "error",
     "ename": "SyntaxError",
     "evalue": "invalid syntax (<ipython-input-2-29a9795140db>, line 1)",
     "traceback": [
      "\u001b[0;36m  File \u001b[0;32m\"<ipython-input-2-29a9795140db>\"\u001b[0;36m, line \u001b[0;32m1\u001b[0m\n\u001b[0;31m    from tensorflow.compat.v1 import enable_eager_execution()\u001b[0m\n\u001b[0m                                                           ^\u001b[0m\n\u001b[0;31mSyntaxError\u001b[0m\u001b[0;31m:\u001b[0m invalid syntax\n"
     ]
    }
   ],
   "source": [
    "from tensorflow.compat.v1 import enable_eager_execution"
   ]
  },
  {
   "cell_type": "code",
   "execution_count": 3,
   "metadata": {},
   "outputs": [],
   "source": [
    "from tensorflow.keras.datasets import mnist\n",
    "(train_data, train_label), (test_data, test_label) = mnist.load_data()"
   ]
  },
  {
   "cell_type": "code",
   "execution_count": 9,
   "metadata": {},
   "outputs": [],
   "source": [
    "i = 8\n",
    "from tensorflow.keras.preprocessing import image\n",
    "image.save_img('/home/oneran/'+ str(i) + '.png', train_data[i].reshape(train_data[i].shape+(1,)))"
   ]
  },
  {
   "cell_type": "code",
   "execution_count": 3,
   "metadata": {},
   "outputs": [],
   "source": [
    "from tensorflow.keras.utils import to_categorical\n",
    "train_label = to_categorical(train_label)\n",
    "test_label = to_categorical(test_label)"
   ]
  },
  {
   "cell_type": "code",
   "execution_count": 4,
   "metadata": {},
   "outputs": [],
   "source": [
    "train_data = train_data.reshape(train_data.shape+(1, ))\n",
    "test_data = test_data.reshape(test_data.shape+(1, ))"
   ]
  },
  {
   "cell_type": "code",
   "execution_count": 7,
   "metadata": {},
   "outputs": [],
   "source": [
    "model = models.Sequential()\n",
    "#* with the input_shape (28, 28, 1)\n",
    "#* Conv_block_1\n",
    "model.add(\n",
    "    layers.Conv2D(16, (3, 3), activation='relu', padding='same', input_shape=(28, 28, 1))\n",
    ")\n",
    "model.add(\n",
    "    layers.Conv2D(16, (3, 3), activation='relu', padding='same')\n",
    ")\n",
    "model.add(\n",
    "    layers.MaxPooling2D((2, 2))\n",
    ")\n",
    "#* Conv_block_2\n",
    "model.add(\n",
    "    layers.BatchNormalization()\n",
    ")\n",
    "model.add(\n",
    "    layers.Conv2D(32, (3, 3), activation='relu', padding='same')\n",
    ")\n",
    "model.add(\n",
    "    layers.Conv2D(32, (3, 3), activation='relu', padding='same')\n",
    ")\n",
    "model.add(\n",
    "    layers.MaxPooling2D((2, 2))\n",
    ")\n",
    "#* Conv_block_3\n",
    "model.add(\n",
    "    layers.BatchNormalization()\n",
    ")\n",
    "model.add(\n",
    "    layers.Conv2D(64, (3, 3), activation='relu', padding='same')\n",
    ")\n",
    "model.add(\n",
    "    layers.Conv2D(64, (3, 3), activation='relu', padding='same')\n",
    ")\n",
    "model.add(\n",
    "    layers.MaxPooling2D((2, 2))\n",
    ")\n",
    "#* Classifier\n",
    "model.add(\n",
    "    layers.Flatten()\n",
    ")\n",
    "model.add(\n",
    "    layers.Dense(128, activation='relu')\n",
    ")\n",
    "model.add(\n",
    "    layers.Dropout(0.5)\n",
    ")\n",
    "model.add(\n",
    "    layers.Dense(128, activation='relu')\n",
    ")\n",
    "model.add(\n",
    "    layers.Dense(10, activation='softmax', name='output')\n",
    ")\n",
    "model.compile(\n",
    "    loss='categorical_crossentropy',\n",
    "    metrics=['acc'],\n",
    "    optimizer=optimizers.RMSprop(lr=1e-3)\n",
    ")"
   ]
  },
  {
   "cell_type": "code",
   "execution_count": 11,
   "metadata": {},
   "outputs": [
    {
     "output_type": "stream",
     "name": "stdout",
     "text": [
      "Model: \"sequential_1\"\n_________________________________________________________________\nLayer (type)                 Output Shape              Param #   \n=================================================================\nconv2d_6 (Conv2D)            (None, 28, 28, 16)        160       \n_________________________________________________________________\nconv2d_7 (Conv2D)            (None, 28, 28, 16)        2320      \n_________________________________________________________________\nmax_pooling2d_3 (MaxPooling2 (None, 14, 14, 16)        0         \n_________________________________________________________________\nbatch_normalization_2 (Batch (None, 14, 14, 16)        64        \n_________________________________________________________________\nconv2d_8 (Conv2D)            (None, 14, 14, 32)        4640      \n_________________________________________________________________\nconv2d_9 (Conv2D)            (None, 14, 14, 32)        9248      \n_________________________________________________________________\nmax_pooling2d_4 (MaxPooling2 (None, 7, 7, 32)          0         \n_________________________________________________________________\nbatch_normalization_3 (Batch (None, 7, 7, 32)          128       \n_________________________________________________________________\nconv2d_10 (Conv2D)           (None, 7, 7, 64)          18496     \n_________________________________________________________________\nconv2d_11 (Conv2D)           (None, 7, 7, 64)          36928     \n_________________________________________________________________\nmax_pooling2d_5 (MaxPooling2 (None, 3, 3, 64)          0         \n_________________________________________________________________\nflatten_1 (Flatten)          (None, 576)               0         \n_________________________________________________________________\ndense_3 (Dense)              (None, 128)               73856     \n_________________________________________________________________\ndropout_1 (Dropout)          (None, 128)               0         \n_________________________________________________________________\ndense_4 (Dense)              (None, 128)               16512     \n_________________________________________________________________\noutput (Dense)               (None, 10)                1290      \n=================================================================\nTotal params: 163,642\nTrainable params: 163,546\nNon-trainable params: 96\n_________________________________________________________________\n"
     ]
    }
   ],
   "source": [
    "model.summary()"
   ]
  },
  {
   "cell_type": "code",
   "execution_count": 12,
   "metadata": {},
   "outputs": [
    {
     "output_type": "stream",
     "name": "stdout",
     "text": [
      "Train on 60000 samples\n",
      "Epoch 1/10\n",
      "60000/60000 [==============================] - 12s 207us/sample - loss: 0.2033 - acc: 0.9364\n",
      "Epoch 2/10\n",
      "60000/60000 [==============================] - 11s 185us/sample - loss: 0.0626 - acc: 0.9829\n",
      "Epoch 3/10\n",
      "60000/60000 [==============================] - 13s 212us/sample - loss: 0.0482 - acc: 0.9867\n",
      "Epoch 4/10\n",
      "60000/60000 [==============================] - 12s 198us/sample - loss: 0.0385 - acc: 0.9900\n",
      "Epoch 5/10\n",
      "60000/60000 [==============================] - 13s 211us/sample - loss: 0.0346 - acc: 0.9908\n",
      "Epoch 6/10\n",
      "60000/60000 [==============================] - 12s 204us/sample - loss: 0.0312 - acc: 0.9919\n",
      "Epoch 7/10\n",
      "60000/60000 [==============================] - 14s 232us/sample - loss: 0.0297 - acc: 0.9924\n",
      "Epoch 8/10\n",
      "60000/60000 [==============================] - 12s 200us/sample - loss: 0.0259 - acc: 0.9936\n",
      "Epoch 9/10\n",
      "60000/60000 [==============================] - 12s 192us/sample - loss: 0.0249 - acc: 0.9940\n",
      "Epoch 10/10\n",
      "60000/60000 [==============================] - 12s 194us/sample - loss: 0.0265 - acc: 0.9936\n"
     ]
    },
    {
     "output_type": "execute_result",
     "data": {
      "text/plain": [
       "<tensorflow.python.keras.callbacks.History at 0x7f9aea14b190>"
      ]
     },
     "metadata": {},
     "execution_count": 12
    }
   ],
   "source": [
    "model.fit(\n",
    "    train_data, train_label,\n",
    "    epochs=10,\n",
    "    batch_size=128\n",
    ")"
   ]
  },
  {
   "cell_type": "code",
   "execution_count": 13,
   "metadata": {},
   "outputs": [
    {
     "output_type": "stream",
     "name": "stdout",
     "text": [
      "INFO:tensorflow:Assets written to: /home/oneran/mnist/assets\n"
     ]
    }
   ],
   "source": [
    "models.save_model(model, '/home/oneran/mnist')"
   ]
  },
  {
   "cell_type": "code",
   "execution_count": 5,
   "metadata": {},
   "outputs": [
    {
     "output_type": "execute_result",
     "data": {
      "text/plain": [
       "'serving_default'"
      ]
     },
     "metadata": {},
     "execution_count": 5
    }
   ],
   "source": [
    "tf.saved_model.DEFAULT_SERVING_SIGNATURE_DEF_KEY"
   ]
  },
  {
   "cell_type": "code",
   "execution_count": 10,
   "metadata": {},
   "outputs": [],
   "source": [
    "model = tf.saved_model.load('/home/oneran/MyProject/mnist_ModelArts/model')"
   ]
  },
  {
   "cell_type": "code",
   "execution_count": 20,
   "metadata": {},
   "outputs": [
    {
     "output_type": "error",
     "ename": "TypeError",
     "evalue": "signature_wrapper(*, conv2d_6_input) missing required arguments: conv2d_6_input",
     "traceback": [
      "\u001b[0;31m---------------------------------------------------------------------------\u001b[0m",
      "\u001b[0;31mTypeError\u001b[0m                                 Traceback (most recent call last)",
      "\u001b[0;32m/usr/lib/python3.9/site-packages/tensorflow/python/eager/function.py\u001b[0m in \u001b[0;36m_call_impl\u001b[0;34m(self, args, kwargs, cancellation_manager)\u001b[0m\n\u001b[1;32m   1681\u001b[0m           \u001b[0;32mtry\u001b[0m\u001b[0;34m:\u001b[0m\u001b[0;34m\u001b[0m\u001b[0;34m\u001b[0m\u001b[0m\n\u001b[0;32m-> 1682\u001b[0;31m             return self._call_with_flat_signature(args, kwargs,\n\u001b[0m\u001b[1;32m   1683\u001b[0m                                                   cancellation_manager)\n",
      "\u001b[0;32m/usr/lib/python3.9/site-packages/tensorflow/python/eager/function.py\u001b[0m in \u001b[0;36m_call_with_flat_signature\u001b[0;34m(self, args, kwargs, cancellation_manager)\u001b[0m\n\u001b[1;32m   1732\u001b[0m           arg, (ops.Tensor, resource_variable_ops.BaseResourceVariable)):\n\u001b[0;32m-> 1733\u001b[0;31m         raise TypeError(\"{}: expected argument #{}(zero-based) to be a Tensor; \"\n\u001b[0m\u001b[1;32m   1734\u001b[0m                         \"got {} ({})\".format(self._flat_signature_summary(), i,\n",
      "\u001b[0;31mTypeError\u001b[0m: signature_wrapper(conv2d_6_input): expected argument #0(zero-based) to be a Tensor; got ndarray ([[[[0]\n   [0]\n   [0]\n   ...\n   [0]\n   [0]\n   [0]]\n\n  [[0]\n   [0]\n   [0]\n   ...\n   [0]\n   [0]\n   [0]]\n\n  [[0]\n   [0]\n   [0]\n   ...\n   [0]\n   [0]\n   [0]]\n\n  ...\n\n  [[0]\n   [0]\n   [0]\n   ...\n   [0]\n   [0]\n   [0]]\n\n  [[0]\n   [0]\n   [0]\n   ...\n   [0]\n   [0]\n   [0]]\n\n  [[0]\n   [0]\n   [0]\n   ...\n   [0]\n   [0]\n   [0]]]\n\n\n [[[0]\n   [0]\n   [0]\n   ...\n   [0]\n   [0]\n   [0]]\n\n  [[0]\n   [0]\n   [0]\n   ...\n   [0]\n   [0]\n   [0]]\n\n  [[0]\n   [0]\n   [0]\n   ...\n   [0]\n   [0]\n   [0]]\n\n  ...\n\n  [[0]\n   [0]\n   [0]\n   ...\n   [0]\n   [0]\n   [0]]\n\n  [[0]\n   [0]\n   [0]\n   ...\n   [0]\n   [0]\n   [0]]\n\n  [[0]\n   [0]\n   [0]\n   ...\n   [0]\n   [0]\n   [0]]]\n\n\n [[[0]\n   [0]\n   [0]\n   ...\n   [0]\n   [0]\n   [0]]\n\n  [[0]\n   [0]\n   [0]\n   ...\n   [0]\n   [0]\n   [0]]\n\n  [[0]\n   [0]\n   [0]\n   ...\n   [0]\n   [0]\n   [0]]\n\n  ...\n\n  [[0]\n   [0]\n   [0]\n   ...\n   [0]\n   [0]\n   [0]]\n\n  [[0]\n   [0]\n   [0]\n   ...\n   [0]\n   [0]\n   [0]]\n\n  [[0]\n   [0]\n   [0]\n   ...\n   [0]\n   [0]\n   [0]]]\n\n\n ...\n\n\n [[[0]\n   [0]\n   [0]\n   ...\n   [0]\n   [0]\n   [0]]\n\n  [[0]\n   [0]\n   [0]\n   ...\n   [0]\n   [0]\n   [0]]\n\n  [[0]\n   [0]\n   [0]\n   ...\n   [0]\n   [0]\n   [0]]\n\n  ...\n\n  [[0]\n   [0]\n   [0]\n   ...\n   [0]\n   [0]\n   [0]]\n\n  [[0]\n   [0]\n   [0]\n   ...\n   [0]\n   [0]\n   [0]]\n\n  [[0]\n   [0]\n   [0]\n   ...\n   [0]\n   [0]\n   [0]]]\n\n\n [[[0]\n   [0]\n   [0]\n   ...\n   [0]\n   [0]\n   [0]]\n\n  [[0]\n   [0]\n   [0]\n   ...\n   [0]\n   [0]\n   [0]]\n\n  [[0]\n   [0]\n   [0]\n   ...\n   [0]\n   [0]\n   [0]]\n\n  ...\n\n  [[0]\n   [0]\n   [0]\n   ...\n   [0]\n   [0]\n   [0]]\n\n  [[0]\n   [0]\n   [0]\n   ...\n   [0]\n   [0]\n   [0]]\n\n  [[0]\n   [0]\n   [0]\n   ...\n   [0]\n   [0]\n   [0]]]\n\n\n [[[0]\n   [0]\n   [0]\n   ...\n   [0]\n   [0]\n   [0]]\n\n  [[0]\n   [0]\n   [0]\n   ...\n   [0]\n   [0]\n   [0]]\n\n  [[0]\n   [0]\n   [0]\n   ...\n   [0]\n   [0]\n   [0]]\n\n  ...\n\n  [[0]\n   [0]\n   [0]\n   ...\n   [0]\n   [0]\n   [0]]\n\n  [[0]\n   [0]\n   [0]\n   ...\n   [0]\n   [0]\n   [0]]\n\n  [[0]\n   [0]\n   [0]\n   ...\n   [0]\n   [0]\n   [0]]]])",
      "\nDuring handling of the above exception, another exception occurred:\n",
      "\u001b[0;31mTypeError\u001b[0m                                 Traceback (most recent call last)",
      "\u001b[0;32m<ipython-input-20-f2fb28b045ce>\u001b[0m in \u001b[0;36m<module>\u001b[0;34m\u001b[0m\n\u001b[0;32m----> 1\u001b[0;31m \u001b[0mmodel\u001b[0m\u001b[0;34m.\u001b[0m\u001b[0msignatures\u001b[0m\u001b[0;34m[\u001b[0m\u001b[0;34m'serving_default'\u001b[0m\u001b[0;34m]\u001b[0m\u001b[0;34m(\u001b[0m\u001b[0mtrain_data\u001b[0m\u001b[0;34m)\u001b[0m\u001b[0;34m\u001b[0m\u001b[0;34m\u001b[0m\u001b[0m\n\u001b[0m",
      "\u001b[0;32m/usr/lib/python3.9/site-packages/tensorflow/python/eager/function.py\u001b[0m in \u001b[0;36m__call__\u001b[0;34m(self, *args, **kwargs)\u001b[0m\n\u001b[1;32m   1667\u001b[0m       \u001b[0mTypeError\u001b[0m\u001b[0;34m:\u001b[0m \u001b[0mIf\u001b[0m \u001b[0mthe\u001b[0m \u001b[0marguments\u001b[0m \u001b[0mdo\u001b[0m \u001b[0;32mnot\u001b[0m \u001b[0mmatch\u001b[0m \u001b[0mthe\u001b[0m \u001b[0mfunction\u001b[0m\u001b[0;31m'\u001b[0m\u001b[0ms\u001b[0m \u001b[0msignature\u001b[0m\u001b[0;34m.\u001b[0m\u001b[0;34m\u001b[0m\u001b[0;34m\u001b[0m\u001b[0m\n\u001b[1;32m   1668\u001b[0m     \"\"\"\n\u001b[0;32m-> 1669\u001b[0;31m     \u001b[0;32mreturn\u001b[0m \u001b[0mself\u001b[0m\u001b[0;34m.\u001b[0m\u001b[0m_call_impl\u001b[0m\u001b[0;34m(\u001b[0m\u001b[0margs\u001b[0m\u001b[0;34m,\u001b[0m \u001b[0mkwargs\u001b[0m\u001b[0;34m)\u001b[0m\u001b[0;34m\u001b[0m\u001b[0;34m\u001b[0m\u001b[0m\n\u001b[0m\u001b[1;32m   1670\u001b[0m \u001b[0;34m\u001b[0m\u001b[0m\n\u001b[1;32m   1671\u001b[0m   \u001b[0;32mdef\u001b[0m \u001b[0m_call_impl\u001b[0m\u001b[0;34m(\u001b[0m\u001b[0mself\u001b[0m\u001b[0;34m,\u001b[0m \u001b[0margs\u001b[0m\u001b[0;34m,\u001b[0m \u001b[0mkwargs\u001b[0m\u001b[0;34m,\u001b[0m \u001b[0mcancellation_manager\u001b[0m\u001b[0;34m=\u001b[0m\u001b[0;32mNone\u001b[0m\u001b[0;34m)\u001b[0m\u001b[0;34m:\u001b[0m\u001b[0;34m\u001b[0m\u001b[0;34m\u001b[0m\u001b[0m\n",
      "\u001b[0;32m/usr/lib/python3.9/site-packages/tensorflow/python/eager/function.py\u001b[0m in \u001b[0;36m_call_impl\u001b[0;34m(self, args, kwargs, cancellation_manager)\u001b[0m\n\u001b[1;32m   1683\u001b[0m                                                   cancellation_manager)\n\u001b[1;32m   1684\u001b[0m           \u001b[0;32mexcept\u001b[0m \u001b[0mTypeError\u001b[0m\u001b[0;34m:\u001b[0m\u001b[0;34m\u001b[0m\u001b[0;34m\u001b[0m\u001b[0m\n\u001b[0;32m-> 1685\u001b[0;31m             \u001b[0;32mraise\u001b[0m \u001b[0mstructured_err\u001b[0m\u001b[0;34m\u001b[0m\u001b[0;34m\u001b[0m\u001b[0m\n\u001b[0m\u001b[1;32m   1686\u001b[0m \u001b[0;34m\u001b[0m\u001b[0m\n\u001b[1;32m   1687\u001b[0m       \u001b[0;32mreturn\u001b[0m \u001b[0mself\u001b[0m\u001b[0;34m.\u001b[0m\u001b[0m_call_with_flat_signature\u001b[0m\u001b[0;34m(\u001b[0m\u001b[0margs\u001b[0m\u001b[0;34m,\u001b[0m \u001b[0mkwargs\u001b[0m\u001b[0;34m,\u001b[0m \u001b[0mcancellation_manager\u001b[0m\u001b[0;34m)\u001b[0m\u001b[0;34m\u001b[0m\u001b[0;34m\u001b[0m\u001b[0m\n",
      "\u001b[0;32m/usr/lib/python3.9/site-packages/tensorflow/python/eager/function.py\u001b[0m in \u001b[0;36m_call_impl\u001b[0;34m(self, args, kwargs, cancellation_manager)\u001b[0m\n\u001b[1;32m   1676\u001b[0m       \u001b[0;32mif\u001b[0m \u001b[0mself\u001b[0m\u001b[0;34m.\u001b[0m\u001b[0m_function_spec\u001b[0m \u001b[0;32mis\u001b[0m \u001b[0;32mnot\u001b[0m \u001b[0;32mNone\u001b[0m\u001b[0;34m:\u001b[0m\u001b[0;34m\u001b[0m\u001b[0;34m\u001b[0m\u001b[0m\n\u001b[1;32m   1677\u001b[0m         \u001b[0;32mtry\u001b[0m\u001b[0;34m:\u001b[0m\u001b[0;34m\u001b[0m\u001b[0;34m\u001b[0m\u001b[0m\n\u001b[0;32m-> 1678\u001b[0;31m           return self._call_with_structured_signature(args, kwargs,\n\u001b[0m\u001b[1;32m   1679\u001b[0m                                                       cancellation_manager)\n\u001b[1;32m   1680\u001b[0m         \u001b[0;32mexcept\u001b[0m \u001b[0mTypeError\u001b[0m \u001b[0;32mas\u001b[0m \u001b[0mstructured_err\u001b[0m\u001b[0;34m:\u001b[0m\u001b[0;34m\u001b[0m\u001b[0;34m\u001b[0m\u001b[0m\n",
      "\u001b[0;32m/usr/lib/python3.9/site-packages/tensorflow/python/eager/function.py\u001b[0m in \u001b[0;36m_call_with_structured_signature\u001b[0;34m(self, args, kwargs, cancellation_manager)\u001b[0m\n\u001b[1;32m   1754\u001b[0m     \u001b[0margs\u001b[0m\u001b[0;34m,\u001b[0m \u001b[0mkwargs\u001b[0m\u001b[0;34m,\u001b[0m \u001b[0m_\u001b[0m\u001b[0;34m,\u001b[0m \u001b[0mfiltered_flat_args\u001b[0m \u001b[0;34m=\u001b[0m\u001b[0;31m \u001b[0m\u001b[0;31m\\\u001b[0m\u001b[0;34m\u001b[0m\u001b[0;34m\u001b[0m\u001b[0m\n\u001b[1;32m   1755\u001b[0m         \u001b[0mself\u001b[0m\u001b[0;34m.\u001b[0m\u001b[0m_function_spec\u001b[0m\u001b[0;34m.\u001b[0m\u001b[0mcanonicalize_function_inputs\u001b[0m\u001b[0;34m(\u001b[0m\u001b[0;34m*\u001b[0m\u001b[0margs\u001b[0m\u001b[0;34m,\u001b[0m \u001b[0;34m**\u001b[0m\u001b[0mkwargs\u001b[0m\u001b[0;34m)\u001b[0m\u001b[0;34m\u001b[0m\u001b[0;34m\u001b[0m\u001b[0m\n\u001b[0;32m-> 1756\u001b[0;31m     \u001b[0mself\u001b[0m\u001b[0;34m.\u001b[0m\u001b[0m_structured_signature_check_missing_args\u001b[0m\u001b[0;34m(\u001b[0m\u001b[0margs\u001b[0m\u001b[0;34m,\u001b[0m \u001b[0mkwargs\u001b[0m\u001b[0;34m)\u001b[0m\u001b[0;34m\u001b[0m\u001b[0;34m\u001b[0m\u001b[0m\n\u001b[0m\u001b[1;32m   1757\u001b[0m     \u001b[0mself\u001b[0m\u001b[0;34m.\u001b[0m\u001b[0m_structured_signature_check_unexpected_args\u001b[0m\u001b[0;34m(\u001b[0m\u001b[0margs\u001b[0m\u001b[0;34m,\u001b[0m \u001b[0mkwargs\u001b[0m\u001b[0;34m)\u001b[0m\u001b[0;34m\u001b[0m\u001b[0;34m\u001b[0m\u001b[0m\n\u001b[1;32m   1758\u001b[0m     \u001b[0mself\u001b[0m\u001b[0;34m.\u001b[0m\u001b[0m_structured_signature_check_arg_types\u001b[0m\u001b[0;34m(\u001b[0m\u001b[0margs\u001b[0m\u001b[0;34m,\u001b[0m \u001b[0mkwargs\u001b[0m\u001b[0;34m)\u001b[0m\u001b[0;34m\u001b[0m\u001b[0;34m\u001b[0m\u001b[0m\n",
      "\u001b[0;32m/usr/lib/python3.9/site-packages/tensorflow/python/eager/function.py\u001b[0m in \u001b[0;36m_structured_signature_check_missing_args\u001b[0;34m(self, args, kwargs)\u001b[0m\n\u001b[1;32m   1773\u001b[0m         \u001b[0mmissing_arguments\u001b[0m\u001b[0;34m.\u001b[0m\u001b[0mappend\u001b[0m\u001b[0;34m(\u001b[0m\u001b[0mname\u001b[0m\u001b[0;34m)\u001b[0m\u001b[0;34m\u001b[0m\u001b[0;34m\u001b[0m\u001b[0m\n\u001b[1;32m   1774\u001b[0m     \u001b[0;32mif\u001b[0m \u001b[0mmissing_arguments\u001b[0m\u001b[0;34m:\u001b[0m\u001b[0;34m\u001b[0m\u001b[0;34m\u001b[0m\u001b[0m\n\u001b[0;32m-> 1775\u001b[0;31m       raise TypeError(\"{} missing required arguments: {}\".format(\n\u001b[0m\u001b[1;32m   1776\u001b[0m           \u001b[0mself\u001b[0m\u001b[0;34m.\u001b[0m\u001b[0m_structured_signature_summary\u001b[0m\u001b[0;34m(\u001b[0m\u001b[0;34m)\u001b[0m\u001b[0;34m,\u001b[0m\u001b[0;34m\u001b[0m\u001b[0;34m\u001b[0m\u001b[0m\n\u001b[1;32m   1777\u001b[0m           \", \".join(sorted(missing_arguments))))\n",
      "\u001b[0;31mTypeError\u001b[0m: signature_wrapper(*, conv2d_6_input) missing required arguments: conv2d_6_input"
     ]
    }
   ],
   "source": [
    "model.signatures['serving_default'](train_data)"
   ]
  },
  {
   "cell_type": "code",
   "execution_count": 6,
   "metadata": {},
   "outputs": [
    {
     "output_type": "stream",
     "name": "stdout",
     "text": [
      "WARNING:tensorflow:From /usr/lib/python3.9/site-packages/tensorflow/python/saved_model/signature_def_utils_impl.py:200: build_tensor_info (from tensorflow.python.saved_model.utils_impl) is deprecated and will be removed in a future version.\n",
      "Instructions for updating:\n",
      "This function will only be available through the v1 compatibility library as tf.compat.v1.saved_model.utils.build_tensor_info or tf.compat.v1.saved_model.build_tensor_info.\n",
      "INFO:tensorflow:No assets to save.\n",
      "INFO:tensorflow:No assets to write.\n",
      "INFO:tensorflow:SavedModel written to: /home/oneran/MyProject/mnist_ModelArts/model/model/saved_model.pb\n"
     ]
    },
    {
     "output_type": "execute_result",
     "data": {
      "text/plain": [
       "b'/home/oneran/MyProject/mnist_ModelArts/model/model/saved_model.pb'"
      ]
     },
     "metadata": {},
     "execution_count": 6
    }
   ],
   "source": [
    "from tensorflow.compat.v1.keras import backend as K\n",
    "K.get_session().run(tf.compat.v1.global_variables_initializer())\n",
    "\n",
    "# 定义预测接口的inputs和outputs\n",
    "# inputs和outputs字典的key值会作为模型输入输出tensor的索引键\n",
    "# 模型输入输出定义需要和推理自定义脚本相匹配\n",
    "predict_signature = tf.compat.v1.saved_model.signature_def_utils.predict_signature_def(\n",
    "    inputs={\"images\" : model.input},\n",
    "    outputs={\"scores\" : model.output}\n",
    ")\n",
    "\n",
    "# 定义保存路径\n",
    "builder = tf.compat.v1.saved_model.builder.SavedModelBuilder('/home/oneran/MyProject/mnist_ModelArts/model/model')\n",
    "\n",
    "builder.add_meta_graph_and_variables(\n",
    "    sess=K.get_session(),\n",
    "    # 推理部署需要定义tf.saved_model.tag_constants.SERVING标签\n",
    "    tags=[tf.compat.v1.saved_model.tag_constants.SERVING],\n",
    "    # \"\"\"\n",
    "    # signature_def_map：items只能有一个，或者需要定义相应的key为\n",
    "    # tf.saved_model.signature_constants.DEFAULT_SERVING_SIGNATURE_DEF_KEY\n",
    "    # \"\"\"\n",
    "    signature_def_map={\n",
    "        tf.compat.v1.saved_model.signature_constants.DEFAULT_SERVING_SIGNATURE_DEF_KEY:\n",
    "            predict_signature\n",
    "    }\n",
    "\n",
    ")\n",
    "builder.save()"
   ]
  },
  {
   "cell_type": "code",
   "execution_count": 44,
   "metadata": {},
   "outputs": [],
   "source": [
    "img = np.random.random((28, 28, 1))"
   ]
  },
  {
   "cell_type": "code",
   "execution_count": 45,
   "metadata": {},
   "outputs": [
    {
     "output_type": "display_data",
     "data": {
      "text/plain": "<Figure size 432x288 with 1 Axes>",
      "image/svg+xml": "<?xml version=\"1.0\" encoding=\"utf-8\" standalone=\"no\"?>\n<!DOCTYPE svg PUBLIC \"-//W3C//DTD SVG 1.1//EN\"\n  \"http://www.w3.org/Graphics/SVG/1.1/DTD/svg11.dtd\">\n<svg height=\"248.518125pt\" version=\"1.1\" viewBox=\"0 0 251.565 248.518125\" width=\"251.565pt\" xmlns=\"http://www.w3.org/2000/svg\" xmlns:xlink=\"http://www.w3.org/1999/xlink\">\n <metadata>\n  <rdf:RDF xmlns:cc=\"http://creativecommons.org/ns#\" xmlns:dc=\"http://purl.org/dc/elements/1.1/\" xmlns:rdf=\"http://www.w3.org/1999/02/22-rdf-syntax-ns#\">\n   <cc:Work>\n    <dc:type rdf:resource=\"http://purl.org/dc/dcmitype/StillImage\"/>\n    <dc:date>2021-05-10T21:07:51.153291</dc:date>\n    <dc:format>image/svg+xml</dc:format>\n    <dc:creator>\n     <cc:Agent>\n      <dc:title>Matplotlib v3.4.1, https://matplotlib.org/</dc:title>\n     </cc:Agent>\n    </dc:creator>\n   </cc:Work>\n  </rdf:RDF>\n </metadata>\n <defs>\n  <style type=\"text/css\">*{stroke-linecap:butt;stroke-linejoin:round;}</style>\n </defs>\n <g id=\"figure_1\">\n  <g id=\"patch_1\">\n   <path d=\"M 0 248.518125 \nL 251.565 248.518125 \nL 251.565 0 \nL 0 0 \nz\n\" style=\"fill:none;\"/>\n  </g>\n  <g id=\"axes_1\">\n   <g id=\"patch_2\">\n    <path d=\"M 26.925 224.64 \nL 244.365 224.64 \nL 244.365 7.2 \nL 26.925 7.2 \nz\n\" style=\"fill:#ffffff;\"/>\n   </g>\n   <g clip-path=\"url(#p1b7548aff9)\">\n    <image height=\"218\" id=\"imagedf04189d1b\" transform=\"scale(1 -1)translate(0 -218)\" width=\"218\" x=\"26.925\" xlink:href=\"data:image/png;base64,\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\" y=\"-6.64\"/>\n   </g>\n   <g id=\"matplotlib.axis_1\">\n    <g id=\"xtick_1\">\n     <g id=\"line2d_1\">\n      <defs>\n       <path d=\"M 0 0 \nL 0 3.5 \n\" id=\"m29894ea66f\" style=\"stroke:#000000;stroke-width:0.8;\"/>\n      </defs>\n      <g>\n       <use style=\"stroke:#000000;stroke-width:0.8;\" x=\"30.807857\" xlink:href=\"#m29894ea66f\" y=\"224.64\"/>\n      </g>\n     </g>\n     <g id=\"text_1\">\n      <!-- 0 -->\n      <g transform=\"translate(27.626607 239.238437)scale(0.1 -0.1)\">\n       <defs>\n        <path d=\"M 2034 4250 \nQ 1547 4250 1301 3770 \nQ 1056 3291 1056 2328 \nQ 1056 1369 1301 889 \nQ 1547 409 2034 409 \nQ 2525 409 2770 889 \nQ 3016 1369 3016 2328 \nQ 3016 3291 2770 3770 \nQ 2525 4250 2034 4250 \nz\nM 2034 4750 \nQ 2819 4750 3233 4129 \nQ 3647 3509 3647 2328 \nQ 3647 1150 3233 529 \nQ 2819 -91 2034 -91 \nQ 1250 -91 836 529 \nQ 422 1150 422 2328 \nQ 422 3509 836 4129 \nQ 1250 4750 2034 4750 \nz\n\" id=\"DejaVuSans-30\" transform=\"scale(0.015625)\"/>\n       </defs>\n       <use xlink:href=\"#DejaVuSans-30\"/>\n      </g>\n     </g>\n    </g>\n    <g id=\"xtick_2\">\n     <g id=\"line2d_2\">\n      <g>\n       <use style=\"stroke:#000000;stroke-width:0.8;\" x=\"69.636429\" xlink:href=\"#m29894ea66f\" y=\"224.64\"/>\n      </g>\n     </g>\n     <g id=\"text_2\">\n      <!-- 5 -->\n      <g transform=\"translate(66.455179 239.238437)scale(0.1 -0.1)\">\n       <defs>\n        <path d=\"M 691 4666 \nL 3169 4666 \nL 3169 4134 \nL 1269 4134 \nL 1269 2991 \nQ 1406 3038 1543 3061 \nQ 1681 3084 1819 3084 \nQ 2600 3084 3056 2656 \nQ 3513 2228 3513 1497 \nQ 3513 744 3044 326 \nQ 2575 -91 1722 -91 \nQ 1428 -91 1123 -41 \nQ 819 9 494 109 \nL 494 744 \nQ 775 591 1075 516 \nQ 1375 441 1709 441 \nQ 2250 441 2565 725 \nQ 2881 1009 2881 1497 \nQ 2881 1984 2565 2268 \nQ 2250 2553 1709 2553 \nQ 1456 2553 1204 2497 \nQ 953 2441 691 2322 \nL 691 4666 \nz\n\" id=\"DejaVuSans-35\" transform=\"scale(0.015625)\"/>\n       </defs>\n       <use xlink:href=\"#DejaVuSans-35\"/>\n      </g>\n     </g>\n    </g>\n    <g id=\"xtick_3\">\n     <g id=\"line2d_3\">\n      <g>\n       <use style=\"stroke:#000000;stroke-width:0.8;\" x=\"108.465\" xlink:href=\"#m29894ea66f\" y=\"224.64\"/>\n      </g>\n     </g>\n     <g id=\"text_3\">\n      <!-- 10 -->\n      <g transform=\"translate(102.1025 239.238437)scale(0.1 -0.1)\">\n       <defs>\n        <path d=\"M 794 531 \nL 1825 531 \nL 1825 4091 \nL 703 3866 \nL 703 4441 \nL 1819 4666 \nL 2450 4666 \nL 2450 531 \nL 3481 531 \nL 3481 0 \nL 794 0 \nL 794 531 \nz\n\" id=\"DejaVuSans-31\" transform=\"scale(0.015625)\"/>\n       </defs>\n       <use xlink:href=\"#DejaVuSans-31\"/>\n       <use x=\"63.623047\" xlink:href=\"#DejaVuSans-30\"/>\n      </g>\n     </g>\n    </g>\n    <g id=\"xtick_4\">\n     <g id=\"line2d_4\">\n      <g>\n       <use style=\"stroke:#000000;stroke-width:0.8;\" x=\"147.293571\" xlink:href=\"#m29894ea66f\" y=\"224.64\"/>\n      </g>\n     </g>\n     <g id=\"text_4\">\n      <!-- 15 -->\n      <g transform=\"translate(140.931071 239.238437)scale(0.1 -0.1)\">\n       <use xlink:href=\"#DejaVuSans-31\"/>\n       <use x=\"63.623047\" xlink:href=\"#DejaVuSans-35\"/>\n      </g>\n     </g>\n    </g>\n    <g id=\"xtick_5\">\n     <g id=\"line2d_5\">\n      <g>\n       <use style=\"stroke:#000000;stroke-width:0.8;\" x=\"186.122143\" xlink:href=\"#m29894ea66f\" y=\"224.64\"/>\n      </g>\n     </g>\n     <g id=\"text_5\">\n      <!-- 20 -->\n      <g transform=\"translate(179.759643 239.238437)scale(0.1 -0.1)\">\n       <defs>\n        <path d=\"M 1228 531 \nL 3431 531 \nL 3431 0 \nL 469 0 \nL 469 531 \nQ 828 903 1448 1529 \nQ 2069 2156 2228 2338 \nQ 2531 2678 2651 2914 \nQ 2772 3150 2772 3378 \nQ 2772 3750 2511 3984 \nQ 2250 4219 1831 4219 \nQ 1534 4219 1204 4116 \nQ 875 4013 500 3803 \nL 500 4441 \nQ 881 4594 1212 4672 \nQ 1544 4750 1819 4750 \nQ 2544 4750 2975 4387 \nQ 3406 4025 3406 3419 \nQ 3406 3131 3298 2873 \nQ 3191 2616 2906 2266 \nQ 2828 2175 2409 1742 \nQ 1991 1309 1228 531 \nz\n\" id=\"DejaVuSans-32\" transform=\"scale(0.015625)\"/>\n       </defs>\n       <use xlink:href=\"#DejaVuSans-32\"/>\n       <use x=\"63.623047\" xlink:href=\"#DejaVuSans-30\"/>\n      </g>\n     </g>\n    </g>\n    <g id=\"xtick_6\">\n     <g id=\"line2d_6\">\n      <g>\n       <use style=\"stroke:#000000;stroke-width:0.8;\" x=\"224.950714\" xlink:href=\"#m29894ea66f\" y=\"224.64\"/>\n      </g>\n     </g>\n     <g id=\"text_6\">\n      <!-- 25 -->\n      <g transform=\"translate(218.588214 239.238437)scale(0.1 -0.1)\">\n       <use xlink:href=\"#DejaVuSans-32\"/>\n       <use x=\"63.623047\" xlink:href=\"#DejaVuSans-35\"/>\n      </g>\n     </g>\n    </g>\n   </g>\n   <g id=\"matplotlib.axis_2\">\n    <g id=\"ytick_1\">\n     <g id=\"line2d_7\">\n      <defs>\n       <path d=\"M 0 0 \nL -3.5 0 \n\" id=\"mab7623e188\" style=\"stroke:#000000;stroke-width:0.8;\"/>\n      </defs>\n      <g>\n       <use style=\"stroke:#000000;stroke-width:0.8;\" x=\"26.925\" xlink:href=\"#mab7623e188\" y=\"11.082857\"/>\n      </g>\n     </g>\n     <g id=\"text_7\">\n      <!-- 0 -->\n      <g transform=\"translate(13.5625 14.882076)scale(0.1 -0.1)\">\n       <use xlink:href=\"#DejaVuSans-30\"/>\n      </g>\n     </g>\n    </g>\n    <g id=\"ytick_2\">\n     <g id=\"line2d_8\">\n      <g>\n       <use style=\"stroke:#000000;stroke-width:0.8;\" x=\"26.925\" xlink:href=\"#mab7623e188\" y=\"49.911429\"/>\n      </g>\n     </g>\n     <g id=\"text_8\">\n      <!-- 5 -->\n      <g transform=\"translate(13.5625 53.710647)scale(0.1 -0.1)\">\n       <use xlink:href=\"#DejaVuSans-35\"/>\n      </g>\n     </g>\n    </g>\n    <g id=\"ytick_3\">\n     <g id=\"line2d_9\">\n      <g>\n       <use style=\"stroke:#000000;stroke-width:0.8;\" x=\"26.925\" xlink:href=\"#mab7623e188\" y=\"88.74\"/>\n      </g>\n     </g>\n     <g id=\"text_9\">\n      <!-- 10 -->\n      <g transform=\"translate(7.2 92.539219)scale(0.1 -0.1)\">\n       <use xlink:href=\"#DejaVuSans-31\"/>\n       <use x=\"63.623047\" xlink:href=\"#DejaVuSans-30\"/>\n      </g>\n     </g>\n    </g>\n    <g id=\"ytick_4\">\n     <g id=\"line2d_10\">\n      <g>\n       <use style=\"stroke:#000000;stroke-width:0.8;\" x=\"26.925\" xlink:href=\"#mab7623e188\" y=\"127.568571\"/>\n      </g>\n     </g>\n     <g id=\"text_10\">\n      <!-- 15 -->\n      <g transform=\"translate(7.2 131.36779)scale(0.1 -0.1)\">\n       <use xlink:href=\"#DejaVuSans-31\"/>\n       <use x=\"63.623047\" xlink:href=\"#DejaVuSans-35\"/>\n      </g>\n     </g>\n    </g>\n    <g id=\"ytick_5\">\n     <g id=\"line2d_11\">\n      <g>\n       <use style=\"stroke:#000000;stroke-width:0.8;\" x=\"26.925\" xlink:href=\"#mab7623e188\" y=\"166.397143\"/>\n      </g>\n     </g>\n     <g id=\"text_11\">\n      <!-- 20 -->\n      <g transform=\"translate(7.2 170.196362)scale(0.1 -0.1)\">\n       <use xlink:href=\"#DejaVuSans-32\"/>\n       <use x=\"63.623047\" xlink:href=\"#DejaVuSans-30\"/>\n      </g>\n     </g>\n    </g>\n    <g id=\"ytick_6\">\n     <g id=\"line2d_12\">\n      <g>\n       <use style=\"stroke:#000000;stroke-width:0.8;\" x=\"26.925\" xlink:href=\"#mab7623e188\" y=\"205.225714\"/>\n      </g>\n     </g>\n     <g id=\"text_12\">\n      <!-- 25 -->\n      <g transform=\"translate(7.2 209.024933)scale(0.1 -0.1)\">\n       <use xlink:href=\"#DejaVuSans-32\"/>\n       <use x=\"63.623047\" xlink:href=\"#DejaVuSans-35\"/>\n      </g>\n     </g>\n    </g>\n   </g>\n   <g id=\"patch_3\">\n    <path d=\"M 26.925 224.64 \nL 26.925 7.2 \n\" style=\"fill:none;stroke:#000000;stroke-linecap:square;stroke-linejoin:miter;stroke-width:0.8;\"/>\n   </g>\n   <g id=\"patch_4\">\n    <path d=\"M 244.365 224.64 \nL 244.365 7.2 \n\" style=\"fill:none;stroke:#000000;stroke-linecap:square;stroke-linejoin:miter;stroke-width:0.8;\"/>\n   </g>\n   <g id=\"patch_5\">\n    <path d=\"M 26.925 224.64 \nL 244.365 224.64 \n\" style=\"fill:none;stroke:#000000;stroke-linecap:square;stroke-linejoin:miter;stroke-width:0.8;\"/>\n   </g>\n   <g id=\"patch_6\">\n    <path d=\"M 26.925 7.2 \nL 244.365 7.2 \n\" style=\"fill:none;stroke:#000000;stroke-linecap:square;stroke-linejoin:miter;stroke-width:0.8;\"/>\n   </g>\n  </g>\n </g>\n <defs>\n  <clipPath id=\"p1b7548aff9\">\n   <rect height=\"217.44\" width=\"217.44\" x=\"26.925\" y=\"7.2\"/>\n  </clipPath>\n </defs>\n</svg>\n",
      "image/png": "[encoded data removed]"
     },
     "metadata": {
      "needs_background": "light"
     }
    }
   ],
   "source": [
    "from matplotlib import pyplot as plt\n",
    "plt.imshow(img)\n",
    "from tensorflow.keras.preprocessing import image"
   ]
  },
  {
   "cell_type": "code",
   "execution_count": 46,
   "metadata": {},
   "outputs": [],
   "source": [
    "img_temp = image.array_to_img(img)\n",
    "image.save_img('/home/oneran/test.png', img)"
   ]
  },
  {
   "cell_type": "code",
   "execution_count": 50,
   "metadata": {},
   "outputs": [],
   "source": [
    "image.save_img('/home/oneran/test.png', img)"
   ]
  },
  {
   "cell_type": "code",
   "execution_count": 49,
   "metadata": {},
   "outputs": [
    {
     "output_type": "execute_result",
     "data": {
      "text/plain": [
       "<PIL.Image.Image image mode=L size=28x28 at 0x7FE594F92A90>"
      ],
      "image/png": "[encoded data removed]"
     },
     "metadata": {},
     "execution_count": 49
    }
   ],
   "source": [
    "img_temp"
   ]
  },
  {
   "cell_type": "code",
   "execution_count": null,
   "metadata": {},
   "outputs": [],
   "source": []
  }
 ]
}